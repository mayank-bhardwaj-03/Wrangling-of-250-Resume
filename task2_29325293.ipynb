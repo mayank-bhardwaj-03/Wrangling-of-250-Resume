{
 "cells": [
  {
   "cell_type": "markdown",
   "metadata": {},
   "source": [
    "# FIT5196 Assessment 1: Task 2\n",
    "#### Student Name: Mayank Bhardwaj\n",
    "#### Student ID: 29325293\n",
    "\n",
    "Date: 01/09/2018\n",
    "\n",
    "Environment: Python 3.6.4\n",
    "\n",
    "Libraries used:\n",
    "* pandas (for data frame, included in Anaconda Python 3.6) \n",
    "* re 2.2.1 (for regular expression, included in Anaconda Python 3.6) \n",
    "* nltk 3.2.2 (Natural Language Toolkit, included in Anaconda Python 3.6)\n",
    "* nltk.collocations (for finding bigrams, included in Anaconda Python 3.6)\n",
    "* nltk.tokenize (for tokenization, included in Anaconda Python 3.6)\n",
    "* itertools (for iterating through the values in the dictionary, included in Anaconda Python 3.6)\n",
    "* sklearn.feature_extraction.text (for using the Count Vectorizer package, included in Anaconda Python 3.6)\n",
    "\n",
    "\n",
    "## 1. Introduction\n",
    "* The aim of this task is to build sparse representations for the resumes, which includes word tokenization, vocabulary generation, and the generation of sparse representations. The required tasks are the following:\n",
    "    * 1 Read all the resume and extract the unique from the list. Use the sentence segmentation and split the file into sentences with the help of Punkt Sentence Tokenizer.\n",
    "    * 2 Do the normalization in the starting of sentence and use the given regex r\"\\w+(?:[-']\\w+)?\" to tokenize the sentencs.\n",
    "    * 3 Extract vocab list from the vocab dictionary and plot the top 30 most common frequency of words.\n",
    "    * 4 Extracting bi-grams and Collocations.\n",
    "    * 5 To make sure collocations will not be divided into two seperate words, we will use MWEtokenizer.\n",
    "    * 6 Removing the stop words.In addendum to this, we will remove the context-dependent (98% & above) and rare tokens (2% & below).\n",
    "    * 7 Now we have to do Stemming and removing words less than 3 characters.\n",
    "    * 8 Now we have vocab list and a pre-defined list of words appearing in those documents (i.e., a vocabulary), we can compute a vector representation for each document. and store in txt file.\n",
    "* More details for each task will be given in the following sections."
   ]
  },
  {
   "cell_type": "markdown",
   "metadata": {},
   "source": [
    "## 2.  Import libraries."
   ]
  },
  {
   "cell_type": "code",
   "execution_count": 1,
   "metadata": {},
   "outputs": [],
   "source": [
    "import re\n",
    "import nltk\n",
    "from nltk.collocations import *\n",
    "from itertools import chain\n",
    "import itertools\n",
    "from nltk.tokenize import RegexpTokenizer\n",
    "from nltk.tokenize import MWETokenizer\n",
    "import nltk.data\n",
    "from nltk.util import ngrams\n",
    "from nltk.probability import *\n",
    "from nltk.stem import PorterStemmer\n",
    "from sklearn.feature_extraction.text import CountVectorizer\n",
    "%matplotlib inline "
   ]
  },
  {
   "cell_type": "markdown",
   "metadata": {},
   "source": [
    "## 3. Sparse Representations\n",
    "### 3.1 Read all the resume and extract the unique from the list & Normalize the sentences.\n",
    "* We are reading the resume.txt file which contains the resume for sparse representation.\n",
    "* The NLTK's Punkt Sentence Tokenizer is used for splitting the text in to sentences and seprate them according to inbuild algorithm. This is mostly known as sentence segmentation.\n",
    "* all the sentences stored in the sentences and then we have done the normalization on the words which are the first word of each sentences.In addition to this tokenize the word on the basis of given regex r\"\\w+(?:[-']\\w+)?\" and store in the dictionary named as vocab_dict.\n"
   ]
  },
  {
   "cell_type": "code",
   "execution_count": 2,
   "metadata": {},
   "outputs": [],
   "source": [
    "resume_list=[772, 206,748,356, 739, 393, 101, 326, 722, 473,  89, 809, 706,\n",
    "             42, 842, 699, 632,  62,595, 108, 70,463, 365,  60, 805, 635,\n",
    "             57, 435, 651, 570, 566, 597, 775, 268, 437, 347,27 , 286,596,\n",
    "             86, 411, 821, 315,   6, 605, 195, 478, 355, 574, 204, 831,\n",
    "             276, 826, 644,63 , 580,761,586, 268,  13, 365, 799, 807, 791,\n",
    "             13, 676, 839, 368, 122, 120, 505, 479,720, 742,659,714, 234, 615,\n",
    "             700, 480, 772, 447, 310, 107, 257, 101, 595, 252, 243, 521,64 ,\n",
    "             599,863,570, 797, 105, 394, 344, 483,  16, 809, 800, 822, 518, 385, \n",
    "             402, 612, 261,755, 205,864,677, 437, 422, 836, 303, 396, 309, 606,\n",
    "             159, 409, 225,  15, 465, 457, 115,426, 440,336,481, 134, 395, 523,\n",
    "             830, 101, 502, 642, 809, 693, 328, 150,  58,  52, 176,651, 200,447,\n",
    "             559, 698, 704, 720, 323, 850, 666, 727, 368, 429, 374, 664,  91,\n",
    "             704, 340,632, 778,857,777, 125, 494, 151, 391, 824, 239, 356, 394,\n",
    "             336, 224, 556, 431,  83, 263,478, 798,835, 75, 495, 479, 564, 201, 266,\n",
    "             801, 852, 862,  20, 113, 223, 284,248, 333, 39, 19, 755, 354, 300,\n",
    "             662, 704, 459,  26, 287, 384, 409, 641, 115, 241,  65,167, 628,780,727,\n",
    "             114, 123, 801, 369, 486, 208, 823, 754, 384, 215, 410, 403, 666, 818,345,\n",
    "             444,569,658, 542,  40, 179, 438, 707, 666,  86,  52, 806, 834, 394, 588, 575,  68]\n",
    "resume_list = set(resume_list)\n",
    "vocab_dict={}\n",
    "for each_resume in resume_list:\n",
    "    \n",
    "    path = '.\\\\resumeTxt\\\\'+'resume_('+str(each_resume)+').txt' # resume path\n",
    "    \n",
    "    files = open(path,'r',encoding ='utf8')\n",
    "    \n",
    "    text = files.read()\n",
    "    sent_detector = nltk.data.load('tokenizers/punkt/english.pickle')  # sentence segmentation\n",
    "\n",
    "    sentences = sent_detector.tokenize(text.strip())\n",
    "    split_sent=[]\n",
    "    \n",
    "    unigram_all_list=[]\n",
    "    for sent in sentences:\n",
    "        split_sent = sent.split(' ')\n",
    "        \n",
    "        # Normalization of the sent(tokens)\n",
    "        each = split_sent[0]\n",
    "        if each[0].upper() == each[0] : \n",
    "            each = each.lower()\n",
    "           \n",
    "        split_sent[0] = each\n",
    "        sent = ' '.join(split_sent)\n",
    "        \n",
    "        tokenizer = RegexpTokenizer(r\"\\w+(?:[-']\\w+)?\")\n",
    "        unigram_tokens = tokenizer.tokenize(sent)\n",
    "      \n",
    "        unigram_all_list += unigram_tokens\n",
    "        vocab_dict[each_resume] = unigram_all_list # vocab dictionary of the resume.\n",
    "\n",
    "resume_dict = vocab_dict"
   ]
  },
  {
   "cell_type": "code",
   "execution_count": 3,
   "metadata": {},
   "outputs": [
    {
     "name": "stdout",
     "output_type": "stream",
     "text": [
      "Vocab Size: 15878 \n",
      "Token List Size: 136557 \n",
      "Lexical Diversity: 8.6003904773901\n"
     ]
    }
   ],
   "source": [
    "words_1 = list(chain.from_iterable(vocab_dict.values()))\n",
    "vocab_set_1 = set(words_1)\n",
    "Lexical_Diversity = len(words_1)/len(vocab_set_1)\n",
    "print(\"Vocab Size:\", len(vocab_set_1), \"\\nToken List Size:\",len(words_1), \"\\nLexical Diversity:\", Lexical_Diversity )"
   ]
  },
  {
   "cell_type": "markdown",
   "metadata": {},
   "source": [
    "### 3.2 Make the vocabulary list\n",
    "* Extract vocab list from the vocab dictionary and plot the top 30 most common frequency of words.\n",
    "* fd1 is the frequency of the vocab in the vocab_all_list"
   ]
  },
  {
   "cell_type": "code",
   "execution_count": 4,
   "metadata": {},
   "outputs": [
    {
     "name": "stdout",
     "output_type": "stream",
     "text": [
      "The length of vocabalory before removing stopwords is: 136557\n"
     ]
    },
    {
     "data": {
      "image/png": "[encoded data removed]",
      "text/plain": [
       "<matplotlib.figure.Figure at 0x1d7410b6b70>"
      ]
     },
     "metadata": {},
     "output_type": "display_data"
    }
   ],
   "source": [
    "vocab_all_list = list(chain.from_iterable(vocab_dict.values())) # store all the resume list words in one vocab_all_list.\n",
    "print('The length of vocabalory before removing stopwords is: '+ str(len(vocab_all_list)))\n",
    "fd_1 = FreqDist(vocab_all_list)\n",
    "fd_1.plot(30)"
   ]
  },
  {
   "cell_type": "markdown",
   "metadata": {},
   "source": [
    "### 3.3 Extracting bi-grams and Collocations.\n",
    "* Bi- grams are the text which occur side by side, they are generally the goes side by side in the engligh language. For example: (gmail', 'com'), ('WORK', 'EXPERIENCE'), ('Key', 'Achievement').\n",
    "* Bi-gram helps in analyzing the text which occur most commonly in the text file.\n",
    "* fdbigram is the frequency distribution of bi-grams."
   ]
  },
  {
   "cell_type": "code",
   "execution_count": 5,
   "metadata": {},
   "outputs": [],
   "source": [
    "bigrams = ngrams(vocab_all_list, n = 2)\n",
    "fdbigram = FreqDist(bigrams)"
   ]
  },
  {
   "cell_type": "markdown",
   "metadata": {},
   "source": [
    "* bigram_200 is the 200 most common bigram in the text input."
   ]
  },
  {
   "cell_type": "code",
   "execution_count": 6,
   "metadata": {},
   "outputs": [],
   "source": [
    "bigram_200=fdbigram.most_common(200)"
   ]
  },
  {
   "cell_type": "markdown",
   "metadata": {},
   "source": [
    "### 3.4 MWETokenizer.\n",
    "* To make sure collocations will not be divided into two seperate words, we will use MWEtokenizer. This will help in storing the bi-grams together.\n",
    "* vocab_all_list is the list of unique vocabolary in the vocab_new_dict. "
   ]
  },
  {
   "cell_type": "code",
   "execution_count": 7,
   "metadata": {},
   "outputs": [],
   "source": [
    "mwetokenizer = MWETokenizer(bigram_200)\n",
    "vocab_new_dict =  dict((key, mwetokenizer.tokenize(value)) for key,value in vocab_dict.items())\n",
    "vocab_all_list = list(chain.from_iterable(vocab_new_dict.values()))\n",
    "vocab_all_list = list(set(vocab_all_list))"
   ]
  },
  {
   "cell_type": "code",
   "execution_count": 8,
   "metadata": {},
   "outputs": [
    {
     "name": "stdout",
     "output_type": "stream",
     "text": [
      "Vocab Size: 15878 \n",
      "Token List Size: 136557 \n",
      "Lexical Diversity: 8.6003904773901\n"
     ]
    }
   ],
   "source": [
    "words = list(chain.from_iterable(vocab_new_dict.values()))\n",
    "vocab_set = set(words)\n",
    "Lexical_Diversity = len(words)/len(vocab_set)\n",
    "print(\"Vocab Size:\", len(vocab_set), \"\\nToken List Size:\",len(words), \"\\nLexical Diversity:\", Lexical_Diversity )"
   ]
  },
  {
   "cell_type": "markdown",
   "metadata": {},
   "source": [
    "### 3.5 Stopword removal.\n",
    "* we have to remove the stopword from the list has been given in the assignment specification.\n",
    "* we have open the file and read in the stop_word and convert that in the set(to remove duplicate) and store in stopwords_list.\n",
    "* Now we have removed all the words from the vocab_all_list and use this to remove from the dictionary of vocab_new_dict."
   ]
  },
  {
   "cell_type": "code",
   "execution_count": 9,
   "metadata": {},
   "outputs": [],
   "source": [
    "stop_word = open('.\\\\stopwords_en.txt','r',encoding ='utf8')\n",
    "stop_word = stop_word.read().splitlines()\n",
    "#print(stop_word)\n",
    "stopwords_list = stop_word\n",
    "stopwords_set = set(stopwords_list)\n",
    "vocab_new_dict_stop = {}\n",
    "vocab_all_list = [w for w in vocab_all_list if w not in stopwords_set]\n",
    "\n",
    "for each_resume in resume_list:\n",
    "    vocab_new_dict_stop[each_resume] = [w for w in vocab_new_dict[each_resume] if w not in stopwords_set]    "
   ]
  },
  {
   "cell_type": "code",
   "execution_count": 10,
   "metadata": {},
   "outputs": [
    {
     "name": "stdout",
     "output_type": "stream",
     "text": [
      "Vocab Size: 15559 \n",
      "Token List Size: 104241 \n",
      "Lexical Diversity: 6.699723632624204\n"
     ]
    }
   ],
   "source": [
    "words = list(chain.from_iterable(vocab_new_dict_stop.values()))\n",
    "vocab_set = set(words)\n",
    "Lexical_Diversity = len(words)/len(vocab_set)\n",
    "print(\"Vocab Size:\", len(vocab_set), \"\\nToken List Size:\",len(words), \"\\nLexical Diversity:\", Lexical_Diversity )"
   ]
  },
  {
   "cell_type": "code",
   "execution_count": 11,
   "metadata": {},
   "outputs": [
    {
     "name": "stdout",
     "output_type": "stream",
     "text": [
      "The length of vocabalory after removing stopwords is: 104241\n"
     ]
    },
    {
     "data": {
      "image/png": "[encoded data removed]",
      "text/plain": [
       "<matplotlib.figure.Figure at 0x1d741ed02e8>"
      ]
     },
     "metadata": {},
     "output_type": "display_data"
    }
   ],
   "source": [
    "vocab_all_list = list(chain.from_iterable(vocab_new_dict_stop.values())) # store all the resume list words in one vocab_all_list.\n",
    "print('The length of vocabalory after removing stopwords is: '+ str(len(vocab_all_list)))\n",
    "fd_2 = FreqDist(words)\n",
    "fd_2.plot(30)"
   ]
  },
  {
   "cell_type": "markdown",
   "metadata": {},
   "source": [
    "### 3.6 Context-dependent & Rare tokens\n",
    "* we have to remove the context-dependent (98% & above) and rare tokens (2% & below).\n",
    "* Count each occurence of the vocab and calculate the threshold of the token.\n",
    "* If threshold is below 2 or above 98 than we have to remove that tokens from the dictionary.\n",
    "* delete_dict contains count of vocabolary and vocab_new_dict is the updated dictionary after removing context-dependent and  rare tokens."
   ]
  },
  {
   "cell_type": "code",
   "execution_count": 12,
   "metadata": {
    "scrolled": true
   },
   "outputs": [
    {
     "data": {
      "image/png": "[encoded data removed]",
      "text/plain": [
       "<matplotlib.figure.Figure at 0x1d7410b6f98>"
      ]
     },
     "metadata": {},
     "output_type": "display_data"
    }
   ],
   "source": [
    "words_3 = list(chain.from_iterable(vocab_new_dict_stop.values()))\n",
    "fd_3 = FreqDist(words_3)\n",
    "\n",
    "ffd = FreqDist(fd_3.values())\n",
    "from pylab import *\n",
    "y = [0]*14\n",
    "for k, v in ffd.items():\n",
    "    if k <= 10:\n",
    "        y[k-1] = v\n",
    "    elif k >10 and k <= 50:\n",
    "        y[10] =  y[10] + v\n",
    "    elif k >50 and k <= 100:\n",
    "        y[11] =  y[11] + v\n",
    "    elif k > 100 :\n",
    "        y[12] =  y[12] + v\n",
    "x = range(1, 15) # generate integer from 1 to 14\n",
    "ytks = list(map(str, range(1, 10))) # covert a integer list to a string list\n",
    "ytks.append('10-50')\n",
    "ytks.append('51-100')\n",
    "ytks.append('101-500')\n",
    "ytks.append('>500')\n",
    "barh(x,y, align='center')\n",
    "yticks(x, ytks)\n",
    "xlabel('Frequency of Frequency')\n",
    "ylabel('Word Frequency')\n",
    "plt.title(\"Word Frequency\")\n",
    "grid(True)"
   ]
  },
  {
   "cell_type": "markdown",
   "metadata": {},
   "source": [
    "Above graph represents the Word frequency, i.e. what is the frequency fo each word. As visible, more that 8000 words appear only once."
   ]
  },
  {
   "cell_type": "code",
   "execution_count": 13,
   "metadata": {},
   "outputs": [],
   "source": [
    "delete_dict={}\n",
    "for each_vocab in vocab_all_list:\n",
    "    count = 0\n",
    "    for each_resume in resume_list:\n",
    "        if each_vocab in vocab_new_dict_stop[each_resume]:\n",
    "            count += 1\n",
    "            \n",
    "    delete_dict[each_vocab] = count\n",
    "delete_list=[]\n",
    "for each_item,values in delete_dict.items():\n",
    "    percentage= values/len(resume_list)*100 \n",
    "    if percentage<98 and percentage>2:\n",
    "        \n",
    "        delete_list.append(each_item)\n",
    "\n",
    "vocab_all_list_new = delete_list\n",
    "vocab_new_dict_token = {}\n",
    "for each_resume in resume_list:\n",
    "    vocab_new_dict_token[each_resume] = [w for w in vocab_new_dict_stop[each_resume] if w in delete_list]"
   ]
  },
  {
   "cell_type": "code",
   "execution_count": 14,
   "metadata": {
    "scrolled": true
   },
   "outputs": [
    {
     "name": "stdout",
     "output_type": "stream",
     "text": [
      "Vocab Size: 2878 \n",
      "Token List Size: 82330 \n",
      "Lexical Diversity: 28.60667129951355\n"
     ]
    }
   ],
   "source": [
    "words = list(chain.from_iterable(vocab_new_dict_token.values()))\n",
    "vocab_set = set(words)\n",
    "Lexical_Diversity = len(words)/len(vocab_set)\n",
    "print(\"Vocab Size:\", len(vocab_set), \"\\nToken List Size:\",len(words), \"\\nLexical Diversity:\", Lexical_Diversity )"
   ]
  },
  {
   "cell_type": "code",
   "execution_count": 15,
   "metadata": {},
   "outputs": [
    {
     "data": {
      "image/png": "[encoded data removed]",
      "text/plain": [
       "<matplotlib.figure.Figure at 0x1d741b73208>"
      ]
     },
     "metadata": {},
     "output_type": "display_data"
    }
   ],
   "source": [
    "words_3 = list(chain.from_iterable(vocab_new_dict_token.values()))\n",
    "fd_3 = FreqDist(words_3)\n",
    "\n",
    "ffd = FreqDist(fd_3.values())\n",
    "from pylab import *\n",
    "y = [0]*14\n",
    "for k, v in ffd.items():\n",
    "    if k <= 10:\n",
    "        y[k-1] = v\n",
    "    elif k >10 and k <= 50:\n",
    "        y[10] =  y[10] + v\n",
    "    elif k >50 and k <= 100:\n",
    "        y[11] =  y[11] + v\n",
    "    elif k > 100 :\n",
    "        y[12] =  y[12] + v\n",
    "x = range(1, 15) # generate integer from 1 to 14\n",
    "ytks = list(map(str, range(1, 10))) # covert a integer list to a string list\n",
    "ytks.append('10-50')\n",
    "ytks.append('51-100')\n",
    "ytks.append('101-500')\n",
    "ytks.append('>500')\n",
    "barh(x,y, align='center')\n",
    "yticks(x, ytks)\n",
    "xlabel('Frequency of Frequency')\n",
    "ylabel('Word Frequency')\n",
    "grid(True)"
   ]
  },
  {
   "cell_type": "markdown",
   "metadata": {},
   "source": [
    "Now after removing the context dependent and rare tokens, there is a drastic change in the graoh, where most of the tokens that appear only once have been removed."
   ]
  },
  {
   "cell_type": "markdown",
   "metadata": {},
   "source": [
    "### 3.7 Stemming & Removal of words less than 3 characters\n",
    "* Now we have to do Stemming by using the Porter stemmer. In this process firstly word is identified and then reduce to the base form after removal of prefixes, plural form, suffixes.\n"
   ]
  },
  {
   "cell_type": "code",
   "execution_count": 16,
   "metadata": {},
   "outputs": [
    {
     "name": "stdout",
     "output_type": "stream",
     "text": [
      "After applying Porter stemming we have a vocab list of 2303.\n"
     ]
    }
   ],
   "source": [
    "stemmer = PorterStemmer()\n",
    "stem_dict={}\n",
    "\n",
    "for each_resume in resume_list:\n",
    "    stem_dict_list=[]\n",
    "    for values in vocab_new_dict_token[each_resume]:\n",
    "        if values.lower() == values:\n",
    "            stem_dict_word = stemmer.stem(values)\n",
    "            stem_dict_list.append(stem_dict_word)\n",
    "        else:\n",
    "             stem_dict_list.append(values)\n",
    "    \n",
    "    stem_dict[each_resume] = stem_dict_list\n",
    "        \n",
    "\n",
    "print('After applying Porter stemming we have a vocab list of '+str(len(set(list(chain.from_iterable(stem_dict.values())))))+'.')"
   ]
  },
  {
   "cell_type": "markdown",
   "metadata": {},
   "source": [
    "* In next step, we are removing the words less than 3 characters."
   ]
  },
  {
   "cell_type": "code",
   "execution_count": 17,
   "metadata": {},
   "outputs": [
    {
     "name": "stdout",
     "output_type": "stream",
     "text": [
      "After removing the less than 3 character words, we have now left with 2180 words.\n"
     ]
    }
   ],
   "source": [
    "for each_resume in resume_list:\n",
    "    stem_dict[each_resume] = [ w for w in stem_dict[each_resume] if len(w) >=3 ]\n",
    "\n",
    "stem_list = list(chain.from_iterable(stem_dict.values()))\n",
    "print('After removing the less than 3 character words, we have now left with '+str(len(set(stem_list))),'words.')"
   ]
  },
  {
   "cell_type": "code",
   "execution_count": 18,
   "metadata": {},
   "outputs": [
    {
     "name": "stdout",
     "output_type": "stream",
     "text": [
      "Vocab Size: 2180 \n",
      "Token List Size: 76747 \n",
      "Lexical Diversity: 35.20504587155963\n"
     ]
    }
   ],
   "source": [
    "words_l = list(chain.from_iterable(stem_dict.values()))\n",
    "vocab_set_l = set(words_l)\n",
    "Lexical_Diversity = len(words_l)/len(vocab_set_l)\n",
    "print(\"Vocab Size:\", len(vocab_set_l), \"\\nToken List Size:\",len(words_l), \"\\nLexical Diversity:\", Lexical_Diversity )"
   ]
  },
  {
   "cell_type": "markdown",
   "metadata": {},
   "source": [
    "### 3.8 Vector Representation\n",
    "Now we have vocab list and a pre-defined list of words appearing in those documents (i.e., a vocabulary), we can compute a vector representation for each document. and store in txt file."
   ]
  },
  {
   "cell_type": "code",
   "execution_count": 19,
   "metadata": {},
   "outputs": [
    {
     "name": "stdout",
     "output_type": "stream",
     "text": [
      "The number of resume and vocabolary are (216, 2180)\n"
     ]
    }
   ],
   "source": [
    "vectorizer = CountVectorizer(analyzer = \"word\", vocabulary = set(stem_list) )\n",
    "data_features = vectorizer.fit_transform([' '.join(value) for value in stem_dict.values()])\n",
    "print ('The number of resume and vocabolary are' ,data_features.shape)"
   ]
  },
  {
   "cell_type": "markdown",
   "metadata": {},
   "source": [
    "* Below is the sparse representation of vocab in the 29325293_CountVec.txt and vocabolary in 29325293_vocab.txt."
   ]
  },
  {
   "cell_type": "code",
   "execution_count": 20,
   "metadata": {},
   "outputs": [],
   "source": [
    "out_file = open(\"./29325293_CountVec.txt\", 'w')\n",
    "vocab = list(set(stem_list))\n",
    "vocab.sort()\n",
    "vocab_dict = {}\n",
    "i = 0\n",
    "for w in vocab:\n",
    "    vocab_dict[w] = i\n",
    "    i = i + 1\n",
    "\n",
    "for key,d in stem_dict.items():\n",
    "    d_idx = [vocab_dict[w] for w in d]\n",
    "    out_file.write(\"Resume({}): \".format(key))\n",
    "    for k, v in FreqDist(d_idx).items():\n",
    "        out_file.write(\"{}:{} \".format(k,v))\n",
    "    out_file.write('\\n')\n",
    "out_file.close()"
   ]
  },
  {
   "cell_type": "code",
   "execution_count": 21,
   "metadata": {},
   "outputs": [],
   "source": [
    "out_file = open(\"./29325293_vocab.txt\", 'w')\n",
    "\n",
    "for k,v in vocab_dict.items():\n",
    "    out_file.write(\"{}:{} \".format(k,v))\n",
    "    out_file.write('\\n')\n",
    "out_file.close()"
   ]
  },
  {
   "cell_type": "markdown",
   "metadata": {},
   "source": [
    "## 4. Statistics"
   ]
  },
  {
   "cell_type": "markdown",
   "metadata": {},
   "source": [
    "### 4.1. Statistics before wrangling"
   ]
  },
  {
   "cell_type": "code",
   "execution_count": 22,
   "metadata": {},
   "outputs": [
    {
     "name": "stdout",
     "output_type": "stream",
     "text": [
      "Vocab Size: 15878 \n",
      "Token List Size: 136557 \n",
      "Lexical Diversity: 8.6003904773901\n"
     ]
    }
   ],
   "source": [
    "Lexical_Diversity = len(words_1)/len(vocab_set_1)\n",
    "print(\"Vocab Size:\", len(vocab_set_1), \"\\nToken List Size:\",len(words_1), \"\\nLexical Diversity:\", Lexical_Diversity )"
   ]
  },
  {
   "cell_type": "markdown",
   "metadata": {},
   "source": [
    "### 4.2. Statistics after wrangling"
   ]
  },
  {
   "cell_type": "code",
   "execution_count": 23,
   "metadata": {},
   "outputs": [
    {
     "name": "stdout",
     "output_type": "stream",
     "text": [
      "Vocab Size: 2180 \n",
      "Token List Size: 76747 \n",
      "Lexical Diversity: 35.20504587155963\n"
     ]
    }
   ],
   "source": [
    "Lexical_Diversity = len(words_l)/len(vocab_set_l)\n",
    "print(\"Vocab Size:\", len(vocab_set_l), \"\\nToken List Size:\",len(words_l), \"\\nLexical Diversity:\", Lexical_Diversity )"
   ]
  },
  {
   "cell_type": "markdown",
   "metadata": {},
   "source": [
    "## 4.3. Sample data after every step"
   ]
  },
  {
   "cell_type": "code",
   "execution_count": 24,
   "metadata": {
    "scrolled": true
   },
   "outputs": [
    {
     "name": "stdout",
     "output_type": "stream",
     "text": [
      "Token list of the sample resume initially\n",
      " ['chow', 'SHING', 'LUNG', 'CHESTER', 'Address', '24D', 'Kwai', 'Chung', 'Fa', 'Yuen', '52', 'Wo', 'Yi', 'Hop', 'Road', 'Kwai', 'Chung', 'N', 'T', 'tel', '852', '9279', '7979', 'Email', 'chester', 'sl', 'chow', 'gmail', 'com', 'WORK', 'EXPERIENCE', 'MAR', '2016', 'PRESENT', 'Alibaba', 'Group', 'Company', 'Secretarial', 'Officer', 'To', 'handle', 'full', 'spectrum', 'of', 'company', 'secretarial', 'duties', 'for', 'three', 'listed', 'companies', 'Alibaba', 'Pictures', 'Group', 'Limited', 'Alibaba', 'Health', 'Information', 'Technology', 'Limited', 'and', 'AGTech', 'Holdings', 'Limited', 'To', 'review', 'and', 'negotiate', 'contracts', 'in', 'listed', 'companies', 'M', 'A', 'transactions', 'To', 'review', 'business', 'agreements', 'NDA', 'employment', 'contracts', 'and', 'procurement', 'contracts', 'Key', 'Achievement', 'Assisted', 'in', 'over', '20', 'disclosable', 'transactions', 'and', 'connected', 'transactions', 'Reviewed', 'and', 'developed', 'a', 'group-wide', 'code', 'of', 'conduct', 'for', 'offices', 'in', '17', 'countries', 'in', '4', 'continents', 'with', 'country', 'specific', 'appendices', 'in', 'compliance', 'with', 'local', 'law', 'and', 'regulations', 'JUL', '2013', 'FEB', '2016', 'Luk', 'Fook', 'Holdings', 'International', 'Limited', 'Assistant', 'Company', 'Secretarial', 'Officer', 'Prepared', 'and', 'reviewed', 'annual', 'interim', 'reports', 'various', 'announcements', 'and', 'circulars', 'Handled', 'notifiable', 'transactions', 'and', 'connected', 'transactions', 'Held', 'directors', 'and', 'shareholders', 'meetings', 'and', 'prepared', 'pre', 'and', 'post-meeting', 'documents', 'including', 'minutes', 'of', 'board', 'meetings', 'and', 'committee', 'meetings', 'Made', 'timely', 'SFO', 'filing', 'via', 'monitoring', 'the', 'interests', 'of', 'directors', 'substantial', 'shareholders', 'and', 'concert', 'parties', 'Established', 'various', 'compliance', 'and', 'internal', 'control', 'policies', 'for', 'the', 'group', 'Advised', 'the', 'board', 'on', 'the', 'compliance', 'with', 'the', 'Listing', 'Rules', 'SFO', 'and', 'Takeovers', 'Code', 'Key', 'Achievement', 'Assisted', 'in', 'the', 'acquisition', 'of', '50', 'interest', 'of', 'China', 'Gold', 'Silver', 'Group', 'Company', 'Limited', '3D-GOLD', 'Developed', 'and', 'implemented', 'the', 'Guideline', 'on', 'Securities', 'Transactions', 'by', 'Directors', 'and', 'Relevant', 'MAR', '2013', 'JUL', '2013', 'Intertrust', 'Group', 'Semi', 'Senior', 'Employees', 'for', 'the', 'group', 'Handled', 'incorporation', 'of', 'companies', 'Processed', 'share', 'transfers', 'and', 'changes', 'of', 'directors', 'Prepared', 'annual', 'return', 'tax', 'return', 'and', 'other', 'statutory', 'documents', 'Maintained', 'statutory', 'registers', 'for', 'companies', 'Arranged', 'for', 'opening', 'of', 'bank', 'accounts', 'JUL', '2010', 'MAR', '2013', 'Tricor', 'Services', 'Limited', 'Officer', 'Provided', 'full', 'spectrum', 'of', 'company', 'secretarial', 'and', 'advisory', 'services', 'to', 'the', 'listed', 'clients', 'Reviewed', 'annual', 'interim', 'reports', 'announcements', 'and', 'circulars', 'Reviewed', 'IPO', 'prospectus', 'and', 'application', 'forms', 'Prepared', 'annual', 'return', 'tax', 'return', 'and', 'other', 'statutory', 'documents', 'Liaised', 'with', 'banks', 'and', 'prepared', 'bank', 'account', 'opening', 'documents', 'Handled', 'ad-hoc', 'assignments', 'such', 'as', 'alternation', 'of', 'M', 'A', 'and', 'change', 'of', 'company', 'names', 'Key', 'Achievement', 'EDUCATION', 'Assisted', 'in', 'the', 'IPO', 'of', 'Chow', 'Tai', 'Fuk', 'Jewellery', 'Group', 'Limited', 'in', '2012', '2016', '2018', 'Master', 'of', 'Corporate', 'Governance', 'The', 'Hong', 'Kong', 'Polytechnic', 'University', '2012', '2015', 'Bachelor', 'of', 'Business', 'Administration', 'Hons', 'in', 'Corporate', 'Administration', 'The', 'Open', 'University', 'of', 'Hong', 'Kong', '2008', '2010', 'Associate', 'of', 'Arts', 'in', 'English', 'for', 'Business', 'Communication', '2003', '2005', 'S', 'K', 'H', 'li', 'Ping', 'Secondary', 'School', 'Secondary', '6-7', 'The', 'Hong', 'Kong', 'Polytechnic', 'University', 'Hong', 'Kong', 'Community', 'College', 'Obtained', 'an', 'A', 'in', 'Reading', 'and', 'Language', 'Systems', 'of', 'Use', 'of', 'English', 'in', 'HKALE', '2005', '1998', '2003', 'Po', 'Leung', 'Kuk', 'Lee', 'Shing', 'Pik', 'College', 'Secondary', '1-5', 'REFERENCES', 'AVAILABLE', 'ON', 'REQUEST', '1', 'SKILLS', 'CHOW', 'SHING', 'LUNG', 'CHESTER', 'Address', '24D', 'Kwai', 'Chung', 'Fa', 'Yuen', '52', 'Wo', 'Yi', 'Hop', 'Road', 'Kwai', 'Chung', 'N', 'T', 'tel', '852', '9279', '7979', 'Email', 'chester', 'sl', 'chow', 'gmail', 'com', 'Language', 'Excellent', 'command', 'in', 'written', 'English', 'British', 'and', 'Chinese', 'traditional', 'and', 'simplified', 'Fluent', 'in', 'spoken', 'English', 'Cantonese', 'and', 'Putonghua', 'Computer', 'CSA', 'MS', 'Word', 'Excel', 'Power', 'Point', 'and', 'English', 'and', 'Chinese', 'Word', 'Processing', 'Typing', 'English', '70', 'wpm', 'Chinese', '60', 'wpm', 'SALARY', 'Current', 'HK', '36', '000', 'on', 'average', 'Expected', 'HK', '36', '000', 'AVAILABILITY', '1-month', 'notice', 'REFERENCES', 'AVAILABLE', 'ON', 'REQUEST', '2']\n",
      "\n",
      "Token list of the sample resume after bigrams updation\n",
      " ['chow', 'SHING', 'LUNG', 'CHESTER', 'Address', '24D', 'Kwai', 'Chung', 'Fa', 'Yuen', '52', 'Wo', 'Yi', 'Hop', 'Road', 'Kwai', 'Chung', 'N', 'T', 'tel', '852', '9279', '7979', 'Email', 'chester', 'sl', 'chow', 'gmail', 'com', 'WORK', 'EXPERIENCE', 'MAR', '2016', 'PRESENT', 'Alibaba', 'Group', 'Company', 'Secretarial', 'Officer', 'To', 'handle', 'full', 'spectrum', 'of', 'company', 'secretarial', 'duties', 'for', 'three', 'listed', 'companies', 'Alibaba', 'Pictures', 'Group', 'Limited', 'Alibaba', 'Health', 'Information', 'Technology', 'Limited', 'and', 'AGTech', 'Holdings', 'Limited', 'To', 'review', 'and', 'negotiate', 'contracts', 'in', 'listed', 'companies', 'M', 'A', 'transactions', 'To', 'review', 'business', 'agreements', 'NDA', 'employment', 'contracts', 'and', 'procurement', 'contracts', 'Key', 'Achievement', 'Assisted', 'in', 'over', '20', 'disclosable', 'transactions', 'and', 'connected', 'transactions', 'Reviewed', 'and', 'developed', 'a', 'group-wide', 'code', 'of', 'conduct', 'for', 'offices', 'in', '17', 'countries', 'in', '4', 'continents', 'with', 'country', 'specific', 'appendices', 'in', 'compliance', 'with', 'local', 'law', 'and', 'regulations', 'JUL', '2013', 'FEB', '2016', 'Luk', 'Fook', 'Holdings', 'International', 'Limited', 'Assistant', 'Company', 'Secretarial', 'Officer', 'Prepared', 'and', 'reviewed', 'annual', 'interim', 'reports', 'various', 'announcements', 'and', 'circulars', 'Handled', 'notifiable', 'transactions', 'and', 'connected', 'transactions', 'Held', 'directors', 'and', 'shareholders', 'meetings', 'and', 'prepared', 'pre', 'and', 'post-meeting', 'documents', 'including', 'minutes', 'of', 'board', 'meetings', 'and', 'committee', 'meetings', 'Made', 'timely', 'SFO', 'filing', 'via', 'monitoring', 'the', 'interests', 'of', 'directors', 'substantial', 'shareholders', 'and', 'concert', 'parties', 'Established', 'various', 'compliance', 'and', 'internal', 'control', 'policies', 'for', 'the', 'group', 'Advised', 'the', 'board', 'on', 'the', 'compliance', 'with', 'the', 'Listing', 'Rules', 'SFO', 'and', 'Takeovers', 'Code', 'Key', 'Achievement', 'Assisted', 'in', 'the', 'acquisition', 'of', '50', 'interest', 'of', 'China', 'Gold', 'Silver', 'Group', 'Company', 'Limited', '3D-GOLD', 'Developed', 'and', 'implemented', 'the', 'Guideline', 'on', 'Securities', 'Transactions', 'by', 'Directors', 'and', 'Relevant', 'MAR', '2013', 'JUL', '2013', 'Intertrust', 'Group', 'Semi', 'Senior', 'Employees', 'for', 'the', 'group', 'Handled', 'incorporation', 'of', 'companies', 'Processed', 'share', 'transfers', 'and', 'changes', 'of', 'directors', 'Prepared', 'annual', 'return', 'tax', 'return', 'and', 'other', 'statutory', 'documents', 'Maintained', 'statutory', 'registers', 'for', 'companies', 'Arranged', 'for', 'opening', 'of', 'bank', 'accounts', 'JUL', '2010', 'MAR', '2013', 'Tricor', 'Services', 'Limited', 'Officer', 'Provided', 'full', 'spectrum', 'of', 'company', 'secretarial', 'and', 'advisory', 'services', 'to', 'the', 'listed', 'clients', 'Reviewed', 'annual', 'interim', 'reports', 'announcements', 'and', 'circulars', 'Reviewed', 'IPO', 'prospectus', 'and', 'application', 'forms', 'Prepared', 'annual', 'return', 'tax', 'return', 'and', 'other', 'statutory', 'documents', 'Liaised', 'with', 'banks', 'and', 'prepared', 'bank', 'account', 'opening', 'documents', 'Handled', 'ad-hoc', 'assignments', 'such', 'as', 'alternation', 'of', 'M', 'A', 'and', 'change', 'of', 'company', 'names', 'Key', 'Achievement', 'EDUCATION', 'Assisted', 'in', 'the', 'IPO', 'of', 'Chow', 'Tai', 'Fuk', 'Jewellery', 'Group', 'Limited', 'in', '2012', '2016', '2018', 'Master', 'of', 'Corporate', 'Governance', 'The', 'Hong', 'Kong', 'Polytechnic', 'University', '2012', '2015', 'Bachelor', 'of', 'Business', 'Administration', 'Hons', 'in', 'Corporate', 'Administration', 'The', 'Open', 'University', 'of', 'Hong', 'Kong', '2008', '2010', 'Associate', 'of', 'Arts', 'in', 'English', 'for', 'Business', 'Communication', '2003', '2005', 'S', 'K', 'H', 'li', 'Ping', 'Secondary', 'School', 'Secondary', '6-7', 'The', 'Hong', 'Kong', 'Polytechnic', 'University', 'Hong', 'Kong', 'Community', 'College', 'Obtained', 'an', 'A', 'in', 'Reading', 'and', 'Language', 'Systems', 'of', 'Use', 'of', 'English', 'in', 'HKALE', '2005', '1998', '2003', 'Po', 'Leung', 'Kuk', 'Lee', 'Shing', 'Pik', 'College', 'Secondary', '1-5', 'REFERENCES', 'AVAILABLE', 'ON', 'REQUEST', '1', 'SKILLS', 'CHOW', 'SHING', 'LUNG', 'CHESTER', 'Address', '24D', 'Kwai', 'Chung', 'Fa', 'Yuen', '52', 'Wo', 'Yi', 'Hop', 'Road', 'Kwai', 'Chung', 'N', 'T', 'tel', '852', '9279', '7979', 'Email', 'chester', 'sl', 'chow', 'gmail', 'com', 'Language', 'Excellent', 'command', 'in', 'written', 'English', 'British', 'and', 'Chinese', 'traditional', 'and', 'simplified', 'Fluent', 'in', 'spoken', 'English', 'Cantonese', 'and', 'Putonghua', 'Computer', 'CSA', 'MS', 'Word', 'Excel', 'Power', 'Point', 'and', 'English', 'and', 'Chinese', 'Word', 'Processing', 'Typing', 'English', '70', 'wpm', 'Chinese', '60', 'wpm', 'SALARY', 'Current', 'HK', '36', '000', 'on', 'average', 'Expected', 'HK', '36', '000', 'AVAILABILITY', '1-month', 'notice', 'REFERENCES', 'AVAILABLE', 'ON', 'REQUEST', '2']\n",
      "\n",
      "Token list of the sample resume after removing the Stop words\n",
      " ['chow', 'SHING', 'LUNG', 'CHESTER', 'Address', '24D', 'Kwai', 'Chung', 'Fa', 'Yuen', '52', 'Wo', 'Yi', 'Hop', 'Road', 'Kwai', 'Chung', 'N', 'T', 'tel', '852', '9279', '7979', 'Email', 'chester', 'sl', 'chow', 'gmail', 'WORK', 'EXPERIENCE', 'MAR', '2016', 'PRESENT', 'Alibaba', 'Group', 'Company', 'Secretarial', 'Officer', 'To', 'handle', 'full', 'spectrum', 'company', 'secretarial', 'duties', 'listed', 'companies', 'Alibaba', 'Pictures', 'Group', 'Limited', 'Alibaba', 'Health', 'Information', 'Technology', 'Limited', 'AGTech', 'Holdings', 'Limited', 'To', 'review', 'negotiate', 'contracts', 'listed', 'companies', 'M', 'A', 'transactions', 'To', 'review', 'business', 'agreements', 'NDA', 'employment', 'contracts', 'procurement', 'contracts', 'Key', 'Achievement', 'Assisted', '20', 'disclosable', 'transactions', 'connected', 'transactions', 'Reviewed', 'developed', 'group-wide', 'code', 'conduct', 'offices', '17', 'countries', '4', 'continents', 'country', 'specific', 'appendices', 'compliance', 'local', 'law', 'regulations', 'JUL', '2013', 'FEB', '2016', 'Luk', 'Fook', 'Holdings', 'International', 'Limited', 'Assistant', 'Company', 'Secretarial', 'Officer', 'Prepared', 'reviewed', 'annual', 'interim', 'reports', 'announcements', 'circulars', 'Handled', 'notifiable', 'transactions', 'connected', 'transactions', 'Held', 'directors', 'shareholders', 'meetings', 'prepared', 'pre', 'post-meeting', 'documents', 'including', 'minutes', 'board', 'meetings', 'committee', 'meetings', 'Made', 'timely', 'SFO', 'filing', 'monitoring', 'interests', 'directors', 'substantial', 'shareholders', 'concert', 'parties', 'Established', 'compliance', 'internal', 'control', 'policies', 'group', 'Advised', 'board', 'compliance', 'Listing', 'Rules', 'SFO', 'Takeovers', 'Code', 'Key', 'Achievement', 'Assisted', 'acquisition', '50', 'interest', 'China', 'Gold', 'Silver', 'Group', 'Company', 'Limited', '3D-GOLD', 'Developed', 'implemented', 'Guideline', 'Securities', 'Transactions', 'Directors', 'Relevant', 'MAR', '2013', 'JUL', '2013', 'Intertrust', 'Group', 'Semi', 'Senior', 'Employees', 'group', 'Handled', 'incorporation', 'companies', 'Processed', 'share', 'transfers', 'directors', 'Prepared', 'annual', 'return', 'tax', 'return', 'statutory', 'documents', 'Maintained', 'statutory', 'registers', 'companies', 'Arranged', 'opening', 'bank', 'accounts', 'JUL', '2010', 'MAR', '2013', 'Tricor', 'Services', 'Limited', 'Officer', 'Provided', 'full', 'spectrum', 'company', 'secretarial', 'advisory', 'services', 'listed', 'clients', 'Reviewed', 'annual', 'interim', 'reports', 'announcements', 'circulars', 'Reviewed', 'IPO', 'prospectus', 'application', 'forms', 'Prepared', 'annual', 'return', 'tax', 'return', 'statutory', 'documents', 'Liaised', 'banks', 'prepared', 'bank', 'account', 'opening', 'documents', 'Handled', 'ad-hoc', 'assignments', 'alternation', 'M', 'A', 'change', 'company', 'names', 'Key', 'Achievement', 'EDUCATION', 'Assisted', 'IPO', 'Chow', 'Tai', 'Fuk', 'Jewellery', 'Group', 'Limited', '2012', '2016', '2018', 'Master', 'Corporate', 'Governance', 'The', 'Hong', 'Kong', 'Polytechnic', 'University', '2012', '2015', 'Bachelor', 'Business', 'Administration', 'Hons', 'Corporate', 'Administration', 'The', 'Open', 'University', 'Hong', 'Kong', '2008', '2010', 'Associate', 'Arts', 'English', 'Business', 'Communication', '2003', '2005', 'S', 'K', 'H', 'li', 'Ping', 'Secondary', 'School', 'Secondary', '6-7', 'The', 'Hong', 'Kong', 'Polytechnic', 'University', 'Hong', 'Kong', 'Community', 'College', 'Obtained', 'A', 'Reading', 'Language', 'Systems', 'Use', 'English', 'HKALE', '2005', '1998', '2003', 'Po', 'Leung', 'Kuk', 'Lee', 'Shing', 'Pik', 'College', 'Secondary', '1-5', 'REFERENCES', 'AVAILABLE', 'ON', 'REQUEST', '1', 'SKILLS', 'CHOW', 'SHING', 'LUNG', 'CHESTER', 'Address', '24D', 'Kwai', 'Chung', 'Fa', 'Yuen', '52', 'Wo', 'Yi', 'Hop', 'Road', 'Kwai', 'Chung', 'N', 'T', 'tel', '852', '9279', '7979', 'Email', 'chester', 'sl', 'chow', 'gmail', 'Language', 'Excellent', 'command', 'written', 'English', 'British', 'Chinese', 'traditional', 'simplified', 'Fluent', 'spoken', 'English', 'Cantonese', 'Putonghua', 'Computer', 'CSA', 'MS', 'Word', 'Excel', 'Power', 'Point', 'English', 'Chinese', 'Word', 'Processing', 'Typing', 'English', '70', 'wpm', 'Chinese', '60', 'wpm', 'SALARY', 'Current', 'HK', '36', '000', 'average', 'Expected', 'HK', '36', '000', 'AVAILABILITY', '1-month', 'notice', 'REFERENCES', 'AVAILABLE', 'ON', 'REQUEST', '2']\n",
      "\n",
      "Token list of the sample resume after removing the context deoendent and rare tokens\n",
      " ['Address', 'Road', 'N', 'T', '852', 'Email', 'gmail', 'WORK', 'EXPERIENCE', '2016', 'Group', 'Company', 'Secretarial', 'Officer', 'To', 'handle', 'full', 'spectrum', 'company', 'secretarial', 'duties', 'listed', 'companies', 'Group', 'Limited', 'Health', 'Information', 'Technology', 'Limited', 'Holdings', 'Limited', 'To', 'review', 'negotiate', 'contracts', 'listed', 'companies', 'M', 'A', 'transactions', 'To', 'review', 'business', 'agreements', 'employment', 'contracts', 'contracts', 'Key', 'Achievement', 'Assisted', '20', 'transactions', 'transactions', 'Reviewed', 'developed', 'conduct', 'offices', '17', 'countries', '4', 'country', 'specific', 'compliance', 'local', 'law', 'regulations', '2013', '2016', 'Holdings', 'International', 'Limited', 'Assistant', 'Company', 'Secretarial', 'Officer', 'Prepared', 'reviewed', 'annual', 'interim', 'reports', 'announcements', 'Handled', 'transactions', 'transactions', 'directors', 'shareholders', 'meetings', 'prepared', 'pre', 'documents', 'including', 'minutes', 'board', 'meetings', 'committee', 'meetings', 'timely', 'filing', 'monitoring', 'interests', 'directors', 'substantial', 'shareholders', 'parties', 'Established', 'compliance', 'internal', 'control', 'policies', 'group', 'Advised', 'board', 'compliance', 'Listing', 'Rules', 'Code', 'Key', 'Achievement', 'Assisted', 'acquisition', '50', 'interest', 'China', 'Gold', 'Silver', 'Group', 'Company', 'Limited', 'Developed', 'implemented', 'Securities', 'Directors', 'Relevant', '2013', '2013', 'Group', 'Senior', 'group', 'Handled', 'incorporation', 'companies', 'Processed', 'share', 'transfers', 'directors', 'Prepared', 'annual', 'return', 'tax', 'return', 'statutory', 'documents', 'Maintained', 'statutory', 'registers', 'companies', 'opening', 'bank', 'accounts', '2010', '2013', 'Services', 'Limited', 'Officer', 'Provided', 'full', 'spectrum', 'company', 'secretarial', 'advisory', 'services', 'listed', 'clients', 'Reviewed', 'annual', 'interim', 'reports', 'announcements', 'Reviewed', 'IPO', 'prospectus', 'application', 'forms', 'Prepared', 'annual', 'return', 'tax', 'return', 'statutory', 'documents', 'Liaised', 'banks', 'prepared', 'bank', 'account', 'opening', 'documents', 'Handled', 'ad-hoc', 'assignments', 'M', 'A', 'change', 'company', 'Key', 'Achievement', 'EDUCATION', 'Assisted', 'IPO', 'Tai', 'Group', 'Limited', '2012', '2016', '2018', 'Master', 'Corporate', 'Governance', 'The', 'Hong', 'Kong', 'Polytechnic', 'University', '2012', '2015', 'Bachelor', 'Business', 'Administration', 'Hons', 'Corporate', 'Administration', 'The', 'Open', 'University', 'Hong', 'Kong', '2008', '2010', 'Associate', 'Arts', 'English', 'Business', 'Communication', '2003', '2005', 'S', 'K', 'H', 'Secondary', 'School', 'Secondary', 'The', 'Hong', 'Kong', 'Polytechnic', 'University', 'Hong', 'Kong', 'Community', 'College', 'Obtained', 'A', 'Reading', 'Language', 'Systems', 'English', '2005', '1998', '2003', 'Leung', 'Lee', 'College', 'Secondary', 'REFERENCES', '1', 'SKILLS', 'Address', 'Road', 'N', 'T', '852', 'Email', 'gmail', 'Language', 'Excellent', 'command', 'written', 'English', 'British', 'Chinese', 'traditional', 'Fluent', 'spoken', 'English', 'Cantonese', 'Putonghua', 'Computer', 'MS', 'Word', 'Excel', 'Power', 'Point', 'English', 'Chinese', 'Word', 'Processing', 'Typing', 'English', '70', 'Chinese', '60', 'SALARY', 'Current', 'HK', '000', 'average', 'Expected', 'HK', '000', 'AVAILABILITY', 'notice', 'REFERENCES', '2']\n",
      "\n",
      "Token list of the sample resume after stemming\n",
      " ['Address', 'Road', '852', 'Email', 'gmail', 'WORK', 'EXPERIENCE', '2016', 'Group', 'Company', 'Secretarial', 'Officer', 'handl', 'full', 'spectrum', 'compani', 'secretari', 'duti', 'list', 'compani', 'Group', 'Limited', 'Health', 'Information', 'Technology', 'Limited', 'Holdings', 'Limited', 'review', 'negoti', 'contract', 'list', 'compani', 'transact', 'review', 'busi', 'agreement', 'employ', 'contract', 'contract', 'Key', 'Achievement', 'Assisted', 'transact', 'transact', 'Reviewed', 'develop', 'conduct', 'offic', 'countri', 'countri', 'specif', 'complianc', 'local', 'law', 'regul', '2013', '2016', 'Holdings', 'International', 'Limited', 'Assistant', 'Company', 'Secretarial', 'Officer', 'Prepared', 'review', 'annual', 'interim', 'report', 'announc', 'Handled', 'transact', 'transact', 'director', 'sharehold', 'meet', 'prepar', 'pre', 'document', 'includ', 'minut', 'board', 'meet', 'committe', 'meet', 'time', 'file', 'monitor', 'interest', 'director', 'substanti', 'sharehold', 'parti', 'Established', 'complianc', 'intern', 'control', 'polici', 'group', 'Advised', 'board', 'complianc', 'Listing', 'Rules', 'Code', 'Key', 'Achievement', 'Assisted', 'acquisit', 'interest', 'China', 'Gold', 'Silver', 'Group', 'Company', 'Limited', 'Developed', 'implement', 'Securities', 'Directors', 'Relevant', '2013', '2013', 'Group', 'Senior', 'group', 'Handled', 'incorpor', 'compani', 'Processed', 'share', 'transfer', 'director', 'Prepared', 'annual', 'return', 'tax', 'return', 'statutori', 'document', 'Maintained', 'statutori', 'regist', 'compani', 'open', 'bank', 'account', '2010', '2013', 'Services', 'Limited', 'Officer', 'Provided', 'full', 'spectrum', 'compani', 'secretari', 'advisori', 'servic', 'list', 'client', 'Reviewed', 'annual', 'interim', 'report', 'announc', 'Reviewed', 'IPO', 'prospectu', 'applic', 'form', 'Prepared', 'annual', 'return', 'tax', 'return', 'statutori', 'document', 'Liaised', 'bank', 'prepar', 'bank', 'account', 'open', 'document', 'Handled', 'ad-hoc', 'assign', 'chang', 'compani', 'Key', 'Achievement', 'EDUCATION', 'Assisted', 'IPO', 'Tai', 'Group', 'Limited', '2012', '2016', '2018', 'Master', 'Corporate', 'Governance', 'The', 'Hong', 'Kong', 'Polytechnic', 'University', '2012', '2015', 'Bachelor', 'Business', 'Administration', 'Hons', 'Corporate', 'Administration', 'The', 'Open', 'University', 'Hong', 'Kong', '2008', '2010', 'Associate', 'Arts', 'English', 'Business', 'Communication', '2003', '2005', 'Secondary', 'School', 'Secondary', 'The', 'Hong', 'Kong', 'Polytechnic', 'University', 'Hong', 'Kong', 'Community', 'College', 'Obtained', 'Reading', 'Language', 'Systems', 'English', '2005', '1998', '2003', 'Leung', 'Lee', 'College', 'Secondary', 'REFERENCES', 'SKILLS', 'Address', 'Road', '852', 'Email', 'gmail', 'Language', 'Excellent', 'command', 'written', 'English', 'British', 'Chinese', 'tradit', 'Fluent', 'spoken', 'English', 'Cantonese', 'Putonghua', 'Computer', 'Word', 'Excel', 'Power', 'Point', 'English', 'Chinese', 'Word', 'Processing', 'Typing', 'English', 'Chinese', 'SALARY', 'Current', '000', 'averag', 'Expected', '000', 'AVAILABILITY', 'notic', 'REFERENCES']\n",
      "\n",
      "Sparse Representation of the sample resume\n",
      "\n",
      "215:1  1024:2  406:1  634:2  29:2  218:1  978:1  699:1  735:1  1000:1  72:1  358:2  497:1  1115:2  636:1  28:3  1139:1  171:1  471:1  722:2  1178:1  446:1  32:6  1866:1  134:1  112:2  2006:3  317:1  1987:2  1627:2  738:1  1475:1  1119:1  553:3  1926:1  1554:1  2136:2  1635:1  2123:1  1634:1  1355:5  1558:1  1544:2  1764:2  2172:2  1952:2  1948:3  1766:1  2053:2  1856:3  1731:2  1838:1  1509:1  46:1  1385:1  1452:1  1632:1  910:1  1939:1  1227:1  1935:1  2094:2  649:1  1298:2  2104:2  1963:2  958:1  1008:1  1869:1  1683:1  541:1  1486:1  1295:1  192:1  1169:1  847:1  1967:1  2011:1  1748:1  1333:3  2154:1  1377:1  1727:2  2112:1  1133:1  618:1  611:3  1073:1  1528:1  1672:2  1760:1  2124:1  1883:3  42:1  1388:2  1681:1  1437:1  1636:1  1687:1  26:5  359:1  1117:1  1111:1  148:1  386:1  1777:1  303:1  2167:1  1821:1  1628:1  1518:1  1701:1  1462:1  1715:1  1988:1  1222:1  966:1  177:1  361:1  264:1  593:1  176:1  907:1  1270:1  1513:1  1845:1  1151:1  275:1  350:1  1692:1  1658:1  1440:1  1456:1  841:1  1505:1  742:1  142:1  840:1  212:1  677:1  37:1  273:2  997:2  489:2  1149:2  40:1  23:2  13:1  889:1  242:1  111:1  300:1  999:1  "
     ]
    }
   ],
   "source": [
    "resume_list = list(resume_list)\n",
    "\n",
    "print('Token list of the sample resume initially\\n',resume_dict[resume_list[0]])\n",
    "print('\\nToken list of the sample resume after bigrams updation\\n',vocab_new_dict[resume_list[0]])\n",
    "print('\\nToken list of the sample resume after removing the Stop words\\n',vocab_new_dict_stop[resume_list[0]])\n",
    "print('\\nToken list of the sample resume after removing the context deoendent and rare tokens\\n',vocab_new_dict_token[resume_list[0]])\n",
    "print('\\nToken list of the sample resume after stemming\\n',stem_dict[resume_list[0]])\n",
    "print('\\nSparse Representation of the sample resume\\n')\n",
    "d_idx = [vocab_dict[w] for w in d]\n",
    "for k, v in FreqDist(d_idx).items():\n",
    "    print(\"{}:{} \".format(k,v), end = ' ')"
   ]
  },
  {
   "cell_type": "markdown",
   "metadata": {},
   "source": [
    "## 5. References\n",
    "* Tutorial 4 & 5, Exploring Pre-Processed text and Generating Features for Text Pre-processing from Data Wrangling : www.moodle.com\n",
    "* Visual representation from Sample report"
   ]
  }
 ],
 "metadata": {
  "kernelspec": {
   "display_name": "Python 3",
   "language": "python",
   "name": "python3"
  },
  "language_info": {
   "codemirror_mode": {
    "name": "ipython",
    "version": 3
   },
   "file_extension": ".py",
   "mimetype": "text/x-python",
   "name": "python",
   "nbconvert_exporter": "python",
   "pygments_lexer": "ipython3",
   "version": "3.6.4"
  }
 },
 "nbformat": 4,
 "nbformat_minor": 2
}
